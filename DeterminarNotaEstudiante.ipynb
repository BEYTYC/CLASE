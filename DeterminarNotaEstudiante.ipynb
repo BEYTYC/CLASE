{
 "cells": [
  {
   "cell_type": "code",
   "execution_count": null,
   "id": "265e9f0a",
   "metadata": {},
   "outputs": [
    {
     "name": "stdout",
     "output_type": "stream",
     "text": [
      "Nombre del estudiante: Juan\n",
      "Debe ser un número entre 0 y 100!\n",
      "Calificacion de la evaluacion? 80\n",
      "Nombre del estudiante:  Juan\n",
      "Nota cuantitativa:  80.0\n",
      "Nota cualitativa:  B\n"
     ]
    }
   ],
   "source": [
    "# Programa para determinar la nota cuantitativa de un estudiante en rangos entre 0 y 100\n",
    "# Autor: David112x\n",
    "# Fecha: 17/02/2025, formato DD/MM/YYYY\n",
    "\n",
    "# Definiendo los rangos de cada nota cuantitativa\n",
    "# Rango D: empezando desde 0 hasta 59 [1, 59]\n",
    "evalD = range(0, 60)\n",
    "# Rango C: empezando desde 59 hasta 80 [60, 79]\n",
    "evalC = range(59, 80)\n",
    "# Rango B: empezando desde 79 hasta 90 [80, 89]\n",
    "evalB = range(79, 90)\n",
    "# Rango A: empezando desde 89 hasta 101 [90, 100]\n",
    "evalA = range(89, 101)\n",
    "\n",
    "# Funcion para imprimir todos los datos al final\n",
    "def printFinalOutput():\n",
    "    print(\"Nombre del estudiante: \", studentName)\n",
    "    print(\"Nota cuantitativa: \", quantityGrade)\n",
    "    print(\"Nota cualitativa: \", qualityGrade)\n",
    "\n",
    "# Leer la cantidad de estudiantes a evaluar\n",
    "N = float(input(\"Cantidad de estudiantes a evaluar: \"))\n",
    "for k in range(N):\n",
    "\n",
    "    # Leer el nombre del estudiante del usuario\n",
    "    studentName = input(\"Nombre del estudiante: \")\n",
    "    print(\"Debe ser un número entre 0 y 100!\")\n",
    "    # Leer la nota cuantitativa del usuario\n",
    "    while True:\n",
    "        try:\n",
    "            quantityGrade = float(input(\"Calificacion de la evaluacion? \"))\n",
    "            if quantityGrade not in range(101):\n",
    "                print(\"La nota dada esta fuera de rango, por favor ingrese una nota entre 0 y 100!\")\n",
    "            else:\n",
    "                break\n",
    "        except ValueError:\n",
    "            print(\"La nota dada no es valida, por favor ingrese una nota entre 0 y 100!\")\n",
    "    \n",
    "    # Determinar si la nota cuantitativa esta dentro de algun rango de las notas cualitativas\n",
    "    # Si no esta dentro de un rango, no podemos dar una nota cualitativa\n",
    "    if quantityGrade in list(evalD):\n",
    "        qualityGrade = \"D\"\n",
    "        printFinalOutput()\n",
    "    elif quantityGrade in list(evalC):\n",
    "        qualityGrade = \"C\"\n",
    "        printFinalOutput()\n",
    "    elif quantityGrade in list(evalB):\n",
    "        qualityGrade = \"B\"\n",
    "        printFinalOutput()\n",
    "    elif quantityGrade in list(evalA):\n",
    "        qualityGrade = \"A\"\n",
    "        printFinalOutput()\n",
    "    else:\n",
    "        print(\"La nota esta fuera de rango!\")"
   ]
  },
  {
   "cell_type": "code",
   "execution_count": null,
   "id": "86af7674",
   "metadata": {},
   "outputs": [],
   "source": []
  },
  {
   "cell_type": "code",
   "execution_count": null,
   "id": "b69c611e",
   "metadata": {},
   "outputs": [],
   "source": []
  }
 ],
 "metadata": {
  "kernelspec": {
   "display_name": "Python 3 (ipykernel)",
   "language": "python",
   "name": "python3"
  },
  "language_info": {
   "codemirror_mode": {
    "name": "ipython",
    "version": 3
   },
   "file_extension": ".py",
   "mimetype": "text/x-python",
   "name": "python",
   "nbconvert_exporter": "python",
   "pygments_lexer": "ipython3",
   "version": "3.9.7"
  }
 },
 "nbformat": 4,
 "nbformat_minor": 5
}
